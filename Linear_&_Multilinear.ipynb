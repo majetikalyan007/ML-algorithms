{
  "nbformat": 4,
  "nbformat_minor": 0,
  "metadata": {
    "colab": {
      "provenance": [],
      "authorship_tag": "ABX9TyOdt6a9dPMx4WPwVfKZE0C/",
      "include_colab_link": true
    },
    "kernelspec": {
      "name": "python3",
      "display_name": "Python 3"
    },
    "language_info": {
      "name": "python"
    }
  },
  "cells": [
    {
      "cell_type": "markdown",
      "metadata": {
        "id": "view-in-github",
        "colab_type": "text"
      },
      "source": [
        "<a href=\"https://colab.research.google.com/github/majetikalyan007/ML-algorithms/blob/main/Linear_%26_Multilinear.ipynb\" target=\"_parent\"><img src=\"https://colab.research.google.com/assets/colab-badge.svg\" alt=\"Open In Colab\"/></a>"
      ]
    },
    {
      "cell_type": "code",
      "execution_count": null,
      "metadata": {
        "id": "v4KOId9MneuI"
      },
      "outputs": [],
      "source": [
        "from sklearn.linear_model import LinearRegression"
      ]
    },
    {
      "cell_type": "code",
      "metadata": {
        "colab": {
          "base_uri": "https://localhost:8080/"
        },
        "id": "824c7356",
        "outputId": "698afba5-31ca-4e3c-e059-14661dfd2e9e"
      },
      "source": [
        "import numpy as np\n",
        "from sklearn.linear_model import LinearRegression\n",
        "\n",
        "# Generate some sample data\n",
        "X = np.array([[1], [2], [3], [4], [5]])  # Feature\n",
        "y = np.array([2, 4, 5, 4, 5])           # Target\n",
        "\n",
        "# Create and train the model\n",
        "model = LinearRegression()\n",
        "model.fit(X, y)\n",
        "\n",
        "# Make predictions\n",
        "predictions = model.predict(X)\n",
        "\n",
        "# Print the model coefficients and predictions\n",
        "print(\"Intercept:\", model.intercept_)\n",
        "print(\"Coefficient:\", model.coef_[0])\n",
        "print(\"Predictions:\", predictions)"
      ],
      "execution_count": null,
      "outputs": [
        {
          "output_type": "stream",
          "name": "stdout",
          "text": [
            "Intercept: 2.2\n",
            "Coefficient: 0.6\n",
            "Predictions: [2.8 3.4 4.  4.6 5.2]\n"
          ]
        }
      ]
    },
    {
      "cell_type": "code",
      "metadata": {
        "colab": {
          "base_uri": "https://localhost:8080/"
        },
        "id": "2cd65f4b",
        "outputId": "3d725999-8119-4f4a-f328-19705b32bd4d"
      },
      "source": [
        "import numpy as np\n",
        "from sklearn.linear_model import LinearRegression\n",
        "\n",
        "# Sample data (x: feature, y: target)\n",
        "x = np.array([1, 2, 3, 4, 5, 6, 7, 8, 9]).reshape(-1, 1) # Reshape for scikit-learn\n",
        "y = np.array([2, 4, 6, 7, 10, 11, 14, 16, 17])\n",
        "\n",
        "# Create and train the model\n",
        "model = LinearRegression()\n",
        "model.fit(x, y)\n",
        "\n",
        "# Print the model coefficients and predictions\n",
        "print(\"Intercept:\", model.intercept_)\n",
        "print(\"Coefficient:\", model.coef_[0])\n",
        "\n",
        "predict=np.array([23,45,21,18]).reshape(-1,1)\n",
        "print(\"Predictions:\", model.predict(predict))\n",
        "# Make predictions (optional, but good for comparison)\n",
        "#predictions = model.predict()\n",
        "#print(\"Predictions:\", predictions)"
      ],
      "execution_count": null,
      "outputs": [
        {
          "output_type": "stream",
          "name": "stdout",
          "text": [
            "Intercept: -3.552713678800501e-15\n",
            "Coefficient: 1.9333333333333338\n",
            "Predictions: [44.46666667 87.         40.6        34.8       ]\n"
          ]
        }
      ]
    },
    {
      "cell_type": "code",
      "metadata": {
        "id": "89cb6bad"
      },
      "source": [
        "import numpy as np\n",
        "from sklearn.linear_model import LinearRegression\n",
        "\n",
        "# Generate some sample data with multiple features\n",
        "X_multi = np.array([[1, 2], [2, 4], [3, 5], [4, 4], [5, 5], [6, 7]])  # Features\n",
        "y_multi = np.array([5, 8, 10, 9, 11, 13])                             # Target\n",
        "\n",
        "# Create and train the multiple linear regression model\n",
        "multi_model = LinearRegression()\n",
        "multi_model.fit(X_multi, y_multi)\n",
        "\n",
        "# Make predictions\n",
        "predictions_multi = multi_model.predict(X_multi)\n",
        "\n",
        "# Print the model coefficients and intercept\n",
        "print(\"Intercept:\", multi_model.intercept_)\n",
        "print(\"Coefficients:\", multi_model.coef_)\n",
        "print(\"Predictions:\", predictions_multi)"
      ],
      "execution_count": null,
      "outputs": []
    }
  ]
}