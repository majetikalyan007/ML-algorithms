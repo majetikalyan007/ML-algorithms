{
  "nbformat": 4,
  "nbformat_minor": 0,
  "metadata": {
    "colab": {
      "provenance": [],
      "authorship_tag": "ABX9TyMx12wiZgCttGac14dagCTf",
      "include_colab_link": true
    },
    "kernelspec": {
      "name": "python3",
      "display_name": "Python 3"
    },
    "language_info": {
      "name": "python"
    }
  },
  "cells": [
    {
      "cell_type": "markdown",
      "metadata": {
        "id": "view-in-github",
        "colab_type": "text"
      },
      "source": [
        "<a href=\"https://colab.research.google.com/github/majetikalyan007/ML-algorithms/blob/main/KNN%26SVM.ipynb\" target=\"_parent\"><img src=\"https://colab.research.google.com/assets/colab-badge.svg\" alt=\"Open In Colab\"/></a>"
      ]
    },
    {
      "cell_type": "code",
      "execution_count": null,
      "metadata": {
        "id": "bdA7M3o8vxPl"
      },
      "outputs": [],
      "source": [
        "import numpy as np\n",
        "import matplotlib.pyplot as plt\n",
        "from sklearn import datasets, linear_model\n",
        "from sklearn.model_selection import train_test_split"
      ]
    },
    {
      "cell_type": "code",
      "source": [
        "import pandas as pd\n",
        "# Data from the image\n",
        "data = {\n",
        "    'BMI': [33.6, 26.6, 23.4, 43.1, 35.3, 35.9, 36.7, 25.7, 23.3, 31],\n",
        "    'Age': [50, 30, 40, 67, 23, 67, 45, 46, 29, 56],\n",
        "    'Sugar': [1, 0, 0, 0, 1, 1, 1, 0, 0, 1]\n",
        "}\n",
        "\n",
        "df = pd.DataFrame(data)\n",
        "\n",
        "# Test example\n",
        "test_bmi = 43.6\n",
        "test_age = 40\n",
        "K = 3\n",
        "\n",
        "df['Distance'] = np.sqrt((df['BMI'] - test_bmi)**2 + (df['Age'] - test_age)**2)\n",
        "\n",
        "\n",
        "df_sorted = df.sort_values(by='Distance')\n",
        "\n",
        "k_nearest_neighbors = df_sorted.head(K)\n",
        "\n",
        "\n",
        "predicted_sugar = k_nearest_neighbors['Sugar'].mode()[0]\n",
        "\n",
        "\n",
        "print(\"K-Nearest Neighbors:\")\n",
        "print(k_nearest_neighbors)\n",
        "print(f\"\\nPredicted Sugar level for the test patient is: {predicted_sugar}\")"
      ],
      "metadata": {
        "colab": {
          "base_uri": "https://localhost:8080/"
        },
        "id": "vL3qcabxwMtV",
        "outputId": "1b76bea8-5b2d-4c8a-9637-20193b26cd22"
      },
      "execution_count": null,
      "outputs": [
        {
          "output_type": "stream",
          "name": "stdout",
          "text": [
            "K-Nearest Neighbors:\n",
            "    BMI  Age  Sugar   Distance\n",
            "6  36.7   45      1   8.521150\n",
            "0  33.6   50      1  14.142136\n",
            "7  25.7   46      0  18.878824\n",
            "\n",
            "Predicted Sugar level for the test patient is: 1\n"
          ]
        }
      ]
    },
    {
      "cell_type": "code",
      "source": [
        "from sklearn.neighbors import KNeighborsClassifier\n",
        "import pandas as pd\n",
        "\n",
        "data = {\n",
        "    'BMI': [33.6, 26.6, 23.4, 43.1, 35.3, 35.9, 36.7, 25.7, 23.3, 31],\n",
        "    'Age': [50, 30, 40, 67, 23, 67, 45, 46, 29, 56],\n",
        "    'Sugar': [1, 0, 0, 0, 1, 1, 1, 0, 0, 1]\n",
        "}\n",
        "df = pd.DataFrame(data)\n",
        "\n",
        "X = df[['BMI', 'Age']]\n",
        "y = df['Sugar']\n",
        "\n",
        "\n",
        "test_data = [[43.6, 40]]\n",
        "\n",
        "knn = KNeighborsClassifier(n_neighbors=3)\n",
        "\n",
        "\n",
        "knn.fit(X, y)\n",
        "\n",
        "\n",
        "predicted_sugar = knn.predict(test_data)\n",
        "\n",
        "\n",
        "print(f\"Predicted Sugar level for the test patient is: {predicted_sugar[0]}\")"
      ],
      "metadata": {
        "colab": {
          "base_uri": "https://localhost:8080/"
        },
        "id": "AZbAE2DJyXcl",
        "outputId": "5a6dc558-ebb2-496e-c53a-9fa8670aebc8"
      },
      "execution_count": null,
      "outputs": [
        {
          "output_type": "stream",
          "name": "stdout",
          "text": [
            "Predicted Sugar level for the test patient is: 1\n"
          ]
        },
        {
          "output_type": "stream",
          "name": "stderr",
          "text": [
            "/usr/local/lib/python3.12/dist-packages/sklearn/utils/validation.py:2739: UserWarning: X does not have valid feature names, but KNeighborsClassifier was fitted with feature names\n",
            "  warnings.warn(\n"
          ]
        }
      ]
    },
    {
      "cell_type": "code",
      "source": [
        "import pandas as pd\n",
        "import matplotlib.pyplot as plt\n",
        "\n",
        "# Recreating the DataFrame with the provided data\n",
        "data = {\n",
        "    'BMI': [33.6, 26.6, 23.4, 43.1, 35.3, 35.9, 36.7, 25.7, 23.3, 31],\n",
        "    'Age': [50, 30, 40, 67, 23, 67, 45, 46, 29, 56],\n",
        "    'Sugar': [1, 0, 0, 0, 1, 1, 1, 0, 0, 1]\n",
        "}\n",
        "df = pd.DataFrame(data)\n",
        "\n",
        "# Test point and K-Nearest Neighbors variables MUST be defined\n",
        "test_point = pd.DataFrame({'BMI': [43.6], 'Age': [40]})\n",
        "k_neighbors = pd.DataFrame({\n",
        "    'BMI': [36.7, 33.6, 25.7],\n",
        "    'Age': [45, 50, 46]\n",
        "})\n",
        "\n",
        "# Create the plot\n",
        "plt.figure(figsize=(8, 6))\n",
        "\n",
        "# Plot the data points, colored by their Sugar value\n",
        "plt.scatter(df[df['Sugar'] == 0]['BMI'], df[df['Sugar'] == 0]['Age'], color='skyblue', label='Sugar = 0')\n",
        "plt.scatter(df[df['Sugar'] == 1]['BMI'], df[df['Sugar'] == 1]['Age'], color='salmon', label='Sugar = 1')\n",
        "\n",
        "# Plot the test point with a distinct marker\n",
        "plt.scatter(test_point['BMI'], test_point['Age'], color='green', marker='s', s=100, label='Test Point')\n",
        "\n",
        "# Plot the 3 nearest neighbors with a distinct marker\n",
        "plt.scatter(k_neighbors['BMI'], k_neighbors['Age'], color='gold', marker='*', s=200, label='K-Nearest Neighbors (K=3)')\n",
        "\n",
        "# Add labels and title\n",
        "plt.xlabel('BMI')\n",
        "plt.ylabel('Age')\n",
        "plt.title('K-Nearest Neighbors (KNN) Visualization')\n",
        "plt.legend()\n",
        "plt.grid(True)\n",
        "plt.tight_layout()\n",
        "\n"
      ],
      "metadata": {
        "colab": {
          "base_uri": "https://localhost:8080/",
          "height": 607
        },
        "id": "30psLdXwygn7",
        "outputId": "e8b5f4be-ab68-41ca-f705-41106ff7958d"
      },
      "execution_count": null,
      "outputs": [
        {
          "output_type": "display_data",
          "data": {
            "text/plain": [
              "<Figure size 800x600 with 1 Axes>"
            ],
            "image/png": "[encoded data removed]"
          },
          "metadata": {}
        }
      ]
    },
    {
      "cell_type": "code",
      "source": [
        "`import pandas as pd\n",
        "from sklearn.svm import SVC\n",
        "\n",
        "data = {\n",
        "    'BMI': [33.6, 26.6, 23.4, 43.1, 35.3, 35.9, 36.7, 25.7, 23.3, 31],\n",
        "    'Age': [50, 30, 40, 67, 23, 67, 45, 46, 29, 56],\n",
        "    'Sugar': [1, 0, 0, 0, 1, 1, 1, 0, 0, 1]\n",
        "}\n",
        "df = pd.DataFrame(data)\n",
        "\n",
        "X = df[['BMI', 'Age']]\n",
        "y = df['Sugar']\n",
        "\n",
        "# Step 2: Create and train the SVM model\n",
        "# Using a linear kernel for this dataset\n",
        "svm_model = SVC(kernel='linear')\n",
        "svm_model.fit(X, y)\n",
        "\n",
        "\n",
        "test_patient = [[43.6, 40]]\n",
        "predicted_sugar = svm_model.predict(test_patient)\n",
        "\n",
        "\n",
        "print(f\"The SVM model predicts the sugar level for the test patient is: {predicted_sugar[0]}\")"
      ],
      "metadata": {
        "colab": {
          "base_uri": "https://localhost:8080/"
        },
        "id": "sV2wVtNx12ld",
        "outputId": "f5b4ce41-3dac-43b4-cd9a-59e74c937373"
      },
      "execution_count": null,
      "outputs": [
        {
          "output_type": "stream",
          "name": "stdout",
          "text": [
            "The SVM model predicts the sugar level for the test patient is: 1\n"
          ]
        },
        {
          "output_type": "stream",
          "name": "stderr",
          "text": [
            "/usr/local/lib/python3.12/dist-packages/sklearn/utils/validation.py:2739: UserWarning: X does not have valid feature names, but SVC was fitted with feature names\n",
            "  warnings.warn(\n"
          ]
        }
      ]
    },
    {
      "cell_type": "code",
      "source": [
        "from sklearn.datasets import load_iris\n",
        "\n",
        "iris = load_iris()\n",
        "X = iris.data\n",
        "y = iris.target\n"
      ],
      "metadata": {
        "id": "uMoamJaFIL90"
      },
      "execution_count": null,
      "outputs": []
    },
    {
      "cell_type": "code",
      "source": [
        "import pandas as pd\n",
        "from sklearn.datasets import load_iris\n",
        "from sklearn.model_selection import train_test_split\n",
        "from sklearn.preprocessing import StandardScaler\n",
        "from sklearn.svm import SVC\n",
        "from sklearn.metrics import accuracy_score, classification_report, confusion_matrix\n",
        "\n",
        "iris = load_iris()\n",
        "X = iris.data\n",
        "y = iris.target\n",
        "target_names = iris.target_names\n",
        "\n",
        "\n",
        "X_train, X_test, y_train, y_test = train_test_split(X, y, test_size=0.3, random_state=42)\n",
        "\n",
        "\n",
        "scaler = StandardScaler()\n",
        "X_train_scaled = scaler.fit_transform(X_train)\n",
        "X_test_scaled = scaler.transform(X_test)\n",
        "\n",
        "\n",
        "svm_model = SVC(kernel='rbf', C=1.0, gamma='auto', random_state=42)\n",
        "svm_model.fit(X_train_scaled, y_train)\n",
        "\n",
        "# 5. Make predictions on the test set\n",
        "y_pred = svm_model.predict(X_test_scaled)\n",
        "\n",
        "# 6. Evaluate the model's performance\n",
        "print(\"--- Model Evaluation ---\")\n",
        "# Calculate accuracy\n",
        "accuracy = accuracy_score(y_test, y_pred)\n",
        "print(f\"Accuracy: {accuracy:.4f}\\n\")\n",
        "\n",
        "# Print classification report\n",
        "print(\"Classification Report:\")\n",
        "print(classification_report(y_test, y_pred, target_names=target_names))\n",
        "\n",
        "# Print confusion matrix\n",
        "print(\"Confusion Matrix:\")\n",
        "conf_matrix = confusion_matrix(y_test, y_pred)\n",
        "print(conf_matrix)"
      ],
      "metadata": {
        "colab": {
          "base_uri": "https://localhost:8080/"
        },
        "id": "rmoy2ku_I3Qy",
        "outputId": "0e088f27-ee14-4ae7-b18f-f0bbd985e644"
      },
      "execution_count": null,
      "outputs": [
        {
          "output_type": "stream",
          "name": "stdout",
          "text": [
            "--- Model Evaluation ---\n",
            "Accuracy: 1.0000\n",
            "\n",
            "Classification Report:\n",
            "              precision    recall  f1-score   support\n",
            "\n",
            "      setosa       1.00      1.00      1.00        19\n",
            "  versicolor       1.00      1.00      1.00        13\n",
            "   virginica       1.00      1.00      1.00        13\n",
            "\n",
            "    accuracy                           1.00        45\n",
            "   macro avg       1.00      1.00      1.00        45\n",
            "weighted avg       1.00      1.00      1.00        45\n",
            "\n",
            "Confusion Matrix:\n",
            "[[19  0  0]\n",
            " [ 0 13  0]\n",
            " [ 0  0 13]]\n"
          ]
        }
      ]
    }
  ]
}