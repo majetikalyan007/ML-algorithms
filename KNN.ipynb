{
  "nbformat": 4,
  "nbformat_minor": 0,
  "metadata": {
    "colab": {
      "provenance": [],
      "authorship_tag": "ABX9TyPnKYr7UFl0Jwb/18pQbEuN",
      "include_colab_link": true
    },
    "kernelspec": {
      "name": "python3",
      "display_name": "Python 3"
    },
    "language_info": {
      "name": "python"
    }
  },
  "cells": [
    {
      "cell_type": "markdown",
      "metadata": {
        "id": "view-in-github",
        "colab_type": "text"
      },
      "source": [
        "<a href=\"https://colab.research.google.com/github/majetikalyan007/ML-algorithms/blob/main/KNN.ipynb\" target=\"_parent\"><img src=\"https://colab.research.google.com/assets/colab-badge.svg\" alt=\"Open In Colab\"/></a>"
      ]
    },
    {
      "cell_type": "code",
      "execution_count": 1,
      "metadata": {
        "id": "knHMvm_yh7f8",
        "colab": {
          "base_uri": "https://localhost:8080/"
        },
        "outputId": "7f1f96a3-0e53-4cd7-f969-f32defbdc214"
      },
      "outputs": [
        {
          "output_type": "stream",
          "name": "stdout",
          "text": [
            "Iris Data set loaded...\n",
            "Label 0 - setosa\n",
            "Label 1 - versicolor\n",
            "Label 2 - virginica\n",
            "Results of Classification using K- NN\n",
            "Prediction -  0\n",
            "Actual-label: 1  Predicted-label: 1\n",
            "Classification Accuracy : 93.33%\n",
            "Prediction -  1\n",
            "Actual-label: 2  Predicted-label: 2\n",
            "Classification Accuracy : 93.33%\n",
            "Prediction -  2\n",
            "Actual-label: 0  Predicted-label: 0\n",
            "Classification Accuracy : 93.33%\n",
            "Prediction -  3\n",
            "Actual-label: 2  Predicted-label: 2\n",
            "Classification Accuracy : 93.33%\n",
            "Prediction -  4\n",
            "Actual-label: 2  Predicted-label: 2\n",
            "Classification Accuracy : 93.33%\n",
            "Prediction -  5\n",
            "Actual-label: 1  Predicted-label: 1\n",
            "Classification Accuracy : 93.33%\n",
            "Prediction -  6\n",
            "Actual-label: 2  Predicted-label: 1\n",
            "Classification Accuracy : 93.33%\n",
            "Prediction -  7\n",
            "Actual-label: 2  Predicted-label: 2\n",
            "Classification Accuracy : 93.33%\n",
            "Prediction -  8\n",
            "Actual-label: 0  Predicted-label: 0\n",
            "Classification Accuracy : 93.33%\n",
            "Prediction -  9\n",
            "Actual-label: 0  Predicted-label: 0\n",
            "Classification Accuracy : 93.33%\n",
            "Prediction -  10\n",
            "Actual-label: 1  Predicted-label: 1\n",
            "Classification Accuracy : 93.33%\n",
            "Prediction -  11\n",
            "Actual-label: 2  Predicted-label: 2\n",
            "Classification Accuracy : 93.33%\n",
            "Prediction -  12\n",
            "Actual-label: 0  Predicted-label: 0\n",
            "Classification Accuracy : 93.33%\n",
            "Prediction -  13\n",
            "Actual-label: 0  Predicted-label: 0\n",
            "Classification Accuracy : 93.33%\n",
            "Prediction -  14\n",
            "Actual-label: 0  Predicted-label: 0\n",
            "Classification Accuracy : 93.33%\n"
          ]
        }
      ],
      "source": [
        "from sklearn.model_selection import train_test_split\n",
        "from sklearn.neighbors import KNeighborsClassifier\n",
        "from sklearn import datasets\n",
        "iris = datasets.load_iris()\n",
        "print(\"Iris Data set loaded...\")\n",
        "x_train, x_test, y_train, y_test = train_test_split(iris.data, iris.target, test_size=0.1)\n",
        "for i in range(len(iris.target_names)):\n",
        "    print(\"Label\", i , \"-\", str(iris.target_names[i]))\n",
        "classifier = KNeighborsClassifier(n_neighbors=2)\n",
        "classifier.fit(x_train, y_train)\n",
        "y_pred=classifier.predict(x_test)\n",
        "print(\"Results of Classification using K- NN\")\n",
        "for r in range(0,len(x_test)):\n",
        "    print(\"Prediction - \",r)\n",
        "    print(\"Actual-label:\", str(y_test[r]), \" Predicted-label:\", str(y_pred[r]))\n",
        "\n",
        "    print(f\"Classification Accuracy : {classifier.score(x_test,y_test)*100:.2f}%\")\n"
      ]
    }
  ]
}